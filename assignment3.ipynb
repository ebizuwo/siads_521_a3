{
 "cells": [
  {
   "cell_type": "markdown",
   "metadata": {},
   "source": [
    "# Professor Brook's Shred Log\n",
    "\n",
    "# Outline\n",
    "1. Rules of Engagement\n",
    "4. A 30 Thousand Foot View\n",
    "    1. Metrics\n",
    "    2. Monthly Trends\n",
    "    3. Cool stuff\n",
    "6. The gritty details\n",
    "    1. Interesting Relationships\n",
    "    2. Some otther things\n",
    "7. Map ploting of each workout\n",
    "7. Summary"
   ]
  },
  {
   "cell_type": "markdown",
   "metadata": {},
   "source": [
    "# Imports\n",
    "Below we are importing some of the useful libraries and one noteably is the class file I was working on but did not have enough time to fully bake it. Since the data modification for this wasn't significant I decided to toy around making a class. The result is sub par. "
   ]
  },
  {
   "cell_type": "code",
   "execution_count": 254,
   "metadata": {},
   "outputs": [],
   "source": [
    "from __future__ import print_function\n",
    "import pandas as pd\n",
    "import numpy as np\n",
    "import plotly.graph_objects as go\n",
    "from IPython.core.display import display, HTML\n",
    "import ipywidgets as widgets\n",
    "from ipywidgets import interact, interactive, fixed, interact_manual, HBox\n",
    "import plotly.io as pio\n",
    "pio.renderers.default = \"notebook\"\n",
    "import folium\n",
    "\n",
    "\n",
    "\n",
    "# class import added the importlib to reimport it when needed\n",
    "import importlib\n",
    "import objects.WorkoutStats as WorkoutStats\n",
    "importlib.reload(WorkoutStats)\n",
    "\n",
    "# read the data into memory and convert to custom object we can\n",
    "# we can still get the original dataframe back\n",
    "workoutstats = WorkoutStats.WorkoutStats(pd.read_csv(\"strava.csv\"))"
   ]
  },
  {
   "cell_type": "markdown",
   "metadata": {},
   "source": [
    "# Rules According to et al\n",
    "\n",
    "Rule 1: Tell a story for an audience <br>\n",
    "Rule 2: Document the process, not just the results <br>\n",
    "Rule 3: Use cell divisions to make steps clear <br>\n",
    "Rule 4: Modularize code <br>\n",
    "Rule 5: Record dependencies <br>\n",
    "Rule 6: Use version control <br>\n",
    "Rule 7: Build a pipeline <br>\n",
    "Rule 8: Share and explain your data <br> \n",
    "Rule 9: Design your notebooks to be read, run, and explored <br>\n",
    "Rule 10: Advocate for open research <br>\n",
    "\n",
    "\n",
    "I am not going to be following too closely all the rules but rather providing a decent framework to start analyzing the workout data provided by strava. I do adhere to some of the rules but then again rules are meant to be broken. The story will not have a bunch of the data cleaning and stats gathering. That has been offloaded to a class file imported below. So that takes away from the rule 3 and 4 ability. But leaves room for displaying some of the charting with plotly and use of the **@interact** decorator. To be frank before I discovered this decorator I was going to use ipython widgets source to create the widgets which is what led me to create the class. This is a pattern I wound up regretting down the road.  \n",
    "\n",
    "Rules adhered to:\n",
    "1. Rule 1 : I am telling the story of the data and subsequently the story of the man catching gains.\n",
    "\n",
    "2. Rule 4 : I modularized code best as possible focusing more on modularizing the plotting code.\n",
    "\n",
    "3. Rule 5 : Record dependencies always. See requirements.txt for virtual environment details\n",
    "\n",
    "4. Rule 6 : Version control should be how this was installed if not god help you. Git hub repo link.![Here]() \n",
    "\n",
    "5. Rule 8 : It is shared alright but not with the world. I made the repo private. \n",
    "\n",
    "6. Rule 9 : Hopefully this is a product of using the interactive widgets and experience with plotly charts. There was more I was hoping to do but never got around to it. \n",
    "\n"
   ]
  },
  {
   "cell_type": "markdown",
   "metadata": {},
   "source": [
    "# Story To Tell\n",
    "Were going to be focused mainly on your heart rate and how the data can be displayed to show how your heart rate changes during workouts. I did not get fancy with the analysis and focused on plotting and making the plots interactive. The 3 basic plot types are available as dropdowns in some of the visualization below. We're going to start with the basic stats. Move into some averaged stats for each workout session. Then show some more advanced plots including Scatter comparisons of variables, and then a map that plots how some variables change throughout the course of some workouts. "
   ]
  },
  {
   "cell_type": "markdown",
   "metadata": {},
   "source": [
    "# Some Warm Up Stats\n"
   ]
  },
  {
   "cell_type": "markdown",
   "metadata": {},
   "source": [
    "### Your Current Average Stats\n",
    "This is averaged by workout then averaged over all 64 workouts during the provided timeframe. This gives you an idea of how you are performing on average right now. Some are just straight up metrics like max and min values or uphill vs downhill distance covered. \n",
    "\n",
    "Again these were generated from my class that I built. Not that greatest design choice going with inner classes but nonetheless  "
   ]
  },
  {
   "cell_type": "code",
   "execution_count": 215,
   "metadata": {},
   "outputs": [
    {
     "data": {
      "text/html": [
       "<div>\n",
       "<style scoped>\n",
       "    .dataframe tbody tr th:only-of-type {\n",
       "        vertical-align: middle;\n",
       "    }\n",
       "\n",
       "    .dataframe tbody tr th {\n",
       "        vertical-align: top;\n",
       "    }\n",
       "\n",
       "    .dataframe thead th {\n",
       "        text-align: right;\n",
       "    }\n",
       "</style>\n",
       "<table border=\"1\" class=\"dataframe\">\n",
       "  <thead>\n",
       "    <tr style=\"text-align: right;\">\n",
       "      <th></th>\n",
       "      <th>metric</th>\n",
       "    </tr>\n",
       "    <tr>\n",
       "      <th>Metric Name</th>\n",
       "      <th></th>\n",
       "    </tr>\n",
       "  </thead>\n",
       "  <tbody>\n",
       "    <tr>\n",
       "      <th>avg</th>\n",
       "      <td>3855.21</td>\n",
       "    </tr>\n",
       "    <tr>\n",
       "      <th>avg_cadence</th>\n",
       "      <td>70.97</td>\n",
       "    </tr>\n",
       "    <tr>\n",
       "      <th>avg_heartrate</th>\n",
       "      <td>128.25</td>\n",
       "    </tr>\n",
       "    <tr>\n",
       "      <th>avg_power</th>\n",
       "      <td>305.1</td>\n",
       "    </tr>\n",
       "    <tr>\n",
       "      <th>avg_speed</th>\n",
       "      <td>2161.9</td>\n",
       "    </tr>\n",
       "    <tr>\n",
       "      <th>avg_workout_time</th>\n",
       "      <td>0 days 00:31:22.625000</td>\n",
       "    </tr>\n",
       "    <tr>\n",
       "      <th>downhill</th>\n",
       "      <td>-35680</td>\n",
       "    </tr>\n",
       "    <tr>\n",
       "      <th>max_dist</th>\n",
       "      <td>39007.1</td>\n",
       "    </tr>\n",
       "    <tr>\n",
       "      <th>min_dist</th>\n",
       "      <td>712.92</td>\n",
       "    </tr>\n",
       "    <tr>\n",
       "      <th>total_distance</th>\n",
       "      <td>402347</td>\n",
       "    </tr>\n",
       "    <tr>\n",
       "      <th>uphill</th>\n",
       "      <td>36083</td>\n",
       "    </tr>\n",
       "  </tbody>\n",
       "</table>\n",
       "</div>"
      ],
      "text/plain": [
       "                                  metric\n",
       "Metric Name                             \n",
       "avg                              3855.21\n",
       "avg_cadence                        70.97\n",
       "avg_heartrate                     128.25\n",
       "avg_power                          305.1\n",
       "avg_speed                         2161.9\n",
       "avg_workout_time  0 days 00:31:22.625000\n",
       "downhill                          -35680\n",
       "max_dist                         39007.1\n",
       "min_dist                          712.92\n",
       "total_distance                    402347\n",
       "uphill                             36083"
      ]
     },
     "metadata": {},
     "output_type": "display_data"
    }
   ],
   "source": [
    "obj = workoutstats.avg_gen_stats()\n",
    "df_avg_stats = pd.DataFrame(data=obj)\n",
    "df_avg_stats.index.name = 'Metric Name'\n",
    "display(df_avg_stats)"
   ]
  },
  {
   "cell_type": "markdown",
   "metadata": {},
   "source": [
    "### Your Stats Per Workout\n",
    "This is similar stats averaged per workout and further analyzed. The slider indicates which workout is being displayed."
   ]
  },
  {
   "cell_type": "code",
   "execution_count": 216,
   "metadata": {},
   "outputs": [
    {
     "data": {
      "application/vnd.jupyter.widget-view+json": {
       "model_id": "b741255edb4849d3a27063eed1e4a112",
       "version_major": 2,
       "version_minor": 0
      },
      "text/plain": [
       "interactive(children=(IntSlider(value=31, description='wo_num', max=63), Output()), _dom_classes=('widget-inte…"
      ]
     },
     "metadata": {},
     "output_type": "display_data"
    }
   ],
   "source": [
    "def make_df(obj):\n",
    "    return pd.DataFrame(data=obj)\n",
    "\n",
    "@interact\n",
    "def workout_stats(wo_num = (0,63,1)):\n",
    "    stats = workoutstats.workout_by_num(wo_num)\n",
    "    return make_df(stats)"
   ]
  },
  {
   "cell_type": "markdown",
   "metadata": {},
   "source": [
    "### Workout Trends Over Time\n",
    "The below graphs plot similar data by workout start time being the time frame for plotting the points. So it is easier to visualize instead of the continuous stream."
   ]
  },
  {
   "cell_type": "code",
   "execution_count": 239,
   "metadata": {},
   "outputs": [
    {
     "data": {
      "application/vnd.jupyter.widget-view+json": {
       "model_id": "fef9bafc126147da985c7deb3832f65a",
       "version_major": 2,
       "version_minor": 0
      },
      "text/plain": [
       "interactive(children=(Dropdown(description='metric', index=4, options=('distance', 'time_duration', 'avg_speed…"
      ]
     },
     "metadata": {},
     "output_type": "display_data"
    }
   ],
   "source": [
    "trend_df = workoutstats.trend_df()\n",
    "def make_plot(metric, plot_type):\n",
    "    y = trend_df[metric]\n",
    "    fig0 = go.Figure()\n",
    "    if plot_type == 'scatter':\n",
    "        x = trend_df.timestamp\n",
    "        fig0.add_trace(\n",
    "            go.Scatter(\n",
    "                x = x,\n",
    "                y = y,\n",
    "                mode = 'markers'\n",
    "            )\n",
    "        )\n",
    "    if plot_type == 'violin':\n",
    "        x = np.full(len(trend_df),metric)\n",
    "        fig0.add_trace(\n",
    "            go.Violin(\n",
    "                x = x,\n",
    "                y = y,\n",
    "            )\n",
    "        )\n",
    "    if plot_type == 'box':\n",
    "        x = np.full(len(trend_df),metric)\n",
    "        fig0.add_trace(\n",
    "            go.Box(\n",
    "                x = x,\n",
    "                y = y,\n",
    "            )\n",
    "        )\n",
    "    fig0.update_layout(\n",
    "        title=f\"Your AVG {metric.upper()} Over Time as {plot_type.upper()}\",\n",
    "        xaxis_title=\"Time\",\n",
    "        yaxis_title=f\"{metric.upper()}\",\n",
    "        font=dict(\n",
    "            family=\"Comic Sans\",\n",
    "            size=18,\n",
    "            color=\"#7f7f7f\"\n",
    "        )\n",
    "    )\n",
    "    return fig0.show()\n",
    "\n",
    "\n",
    "@interact(metric=widgets.Dropdown(options=trend_df.columns[1:-1], value='avg_heart_rate'),\n",
    "          plot_type=widgets.Dropdown(options=['scatter','violin', 'box'], value='scatter')\n",
    "         )\n",
    "def workout_trend(metric, plot_type):\n",
    "    return make_plot(metric, plot_type)"
   ]
  },
  {
   "cell_type": "markdown",
   "metadata": {},
   "source": [
    "### Try Looking At All The Data Over Time\n",
    "This is the whole dataset not the averages of each workout. This will provide a little more acuity but is not as useful a metric. It takes time to get in shape. Looking at each workout to see how you are improving makes more sense. "
   ]
  },
  {
   "cell_type": "code",
   "execution_count": 218,
   "metadata": {},
   "outputs": [],
   "source": [
    "df = workoutstats.full_df()"
   ]
  },
  {
   "cell_type": "code",
   "execution_count": 245,
   "metadata": {},
   "outputs": [
    {
     "data": {
      "application/vnd.jupyter.widget-view+json": {
       "model_id": "dac34303999746c0908eb36143d2491d",
       "version_major": 2,
       "version_minor": 0
      },
      "text/plain": [
       "interactive(children=(Select(description='metric', index=14, options=('Air Power', 'Cadence', 'Form Power', 'G…"
      ]
     },
     "metadata": {},
     "output_type": "display_data"
    }
   ],
   "source": [
    "# dont think the rolling provided a ton of value \n",
    "def rolling_df():\n",
    "    pass\n",
    "    \n",
    "def make_plot_rel_scatter(metric, mode, wo_num, plot_type):\n",
    "    \n",
    "    y = df[metric][df.workout==wo_num] #.groupby(pd.Grouper(freq='1Min')).mean()\n",
    "    x = df[df.workout==wo_num].timestamp\n",
    "    fig0 = go.Figure()\n",
    "    if plot_type == 'scatter':\n",
    "        x = trend_df.timestamp\n",
    "        fig0.add_trace(\n",
    "            go.Scatter(\n",
    "                x = x,\n",
    "                y = y,\n",
    "                mode = 'markers'\n",
    "            )\n",
    "        )\n",
    "    if plot_type == 'violin':\n",
    "        x = np.full(len(trend_df),metric)\n",
    "        fig0.add_trace(\n",
    "            go.Violin(\n",
    "                x = x,\n",
    "                y = y,\n",
    "            )\n",
    "        )\n",
    "    if plot_type == 'box':\n",
    "        x = np.full(len(trend_df),metric)\n",
    "        fig0.add_trace(\n",
    "            go.Box(\n",
    "                x = x,\n",
    "                y = y,\n",
    "            )\n",
    "        )\n",
    "    fig0.update_layout(\n",
    "        title=f\"Your {metric.upper()} For Workout {wo_num} ploted Over Time<br>As Plotted {plot_type.upper()} with {mode.upper()}\",\n",
    "        xaxis_title=\"Time\",\n",
    "        yaxis_title=f\"{metric.upper()}\",\n",
    "        font=dict(\n",
    "            family=\"Comic Sans\",\n",
    "            size=18,\n",
    "            color=\"#7f7f7f\"\n",
    "        )\n",
    "    )\n",
    "    return fig0.show()\n",
    "\n",
    "@interact(metric=widgets.Select(options=df.columns[:-1], value='heart_rate'),\n",
    "          wo_num = widgets.IntSlider(options=df.workout.unique(), value=60),\n",
    "          mode = widgets.Dropdown(options=['markers', 'lines','lines+markers' ], value='lines'),\n",
    "          plot_type=widgets.Dropdown(options=['scatter','violin', 'box'], value='scatter')\n",
    "         )\n",
    "def interact_rel_scatter(metric,mode, wo_num, plot_type):\n",
    "    return make_plot_rel_scatter(metric, mode, wo_num, plot_type)\n"
   ]
  },
  {
   "cell_type": "markdown",
   "metadata": {},
   "source": [
    "### Let's Look at Relationships Between Metrics\n",
    "We're going to analyze the whole dataset again this time looking at plots for all variables potentially plotted against each other on the x or y axis."
   ]
  },
  {
   "cell_type": "code",
   "execution_count": 241,
   "metadata": {},
   "outputs": [
    {
     "data": {
      "application/vnd.jupyter.widget-view+json": {
       "model_id": "59b6cb56d15341c9b0a1c9ce2e15a2c3",
       "version_major": 2,
       "version_minor": 0
      },
      "text/plain": [
       "interactive(children=(Select(description='xaxis', index=10, options=('Air Power', 'Cadence', 'Form Power', 'Gr…"
      ]
     },
     "metadata": {},
     "output_type": "display_data"
    }
   ],
   "source": [
    "def make_rel_scatter(xv,yv,wo, plot_type):\n",
    "    x = df[xv][df.workout==wo]\n",
    "    y = df[yv][df.workout==wo]\n",
    "    fig0 = go.Figure()\n",
    "    fig0.add_trace(\n",
    "        go.Scatter(\n",
    "            x=x,\n",
    "            y=y,\n",
    "            mode='markers'\n",
    "        )\n",
    "    )\n",
    "    fig0.update_layout(\n",
    "        title=f\"Your {xv.upper()} Against {yv.upper()} <br>For Workout {wo} ploted Over Time<br>As Plotted {plot_type.upper()}\",\n",
    "        xaxis_title=f\"{yv.upper()}\",\n",
    "        yaxis_title=f\"{xv.upper()}\",\n",
    "        font=dict(\n",
    "            family=\"Comic Sans\",\n",
    "            size=16,\n",
    "            color=\"#7f7f7f\"\n",
    "        )\n",
    "    )\n",
    "    return fig0.show()\n",
    "\n",
    "@interact(yaxis=widgets.Select(options=df.columns[:-1], value='heart_rate'),\n",
    "          xaxis=widgets.Select(options=df.columns[:-1], value='distance'),\n",
    "         wo_num = widgets.IntSlider(options=df.workout.unique(), value=60),\n",
    "         )\n",
    "def scatter_select(xaxis,yaxis, wo_num, plot_type=['scatter', 'splom']):\n",
    "    return make_rel_scatter(xaxis,yaxis,wo_num, plot_type)"
   ]
  },
  {
   "cell_type": "markdown",
   "metadata": {},
   "source": [
    "# Let's See It On A Map\n",
    "Okay so below is supposed to be an interactive map that allows you to select a metric and a workout to see how that metric faired over the course of the workout. It is a bit over simplified but it does the job necessary. There are some edge cases not handled because the data is dirty. It does work when there are no nans in the workout set. Handling NaNs would potentially take away from the dataset too much. "
   ]
  },
  {
   "cell_type": "code",
   "execution_count": 253,
   "metadata": {},
   "outputs": [
    {
     "data": {
      "application/vnd.jupyter.widget-view+json": {
       "model_id": "c16c5d846e5841168bbfce567383e3d9",
       "version_major": 2,
       "version_minor": 0
      },
      "text/plain": [
       "interactive(children=(Dropdown(description='wo_num', index=60, options=(0, 1, 2, 3, 4, 5, 6, 7, 8, 9, 10, 11, …"
      ]
     },
     "metadata": {},
     "output_type": "display_data"
    }
   ],
   "source": [
    "# this is going to be neato\n",
    "from colour import Color\n",
    "\n",
    "# we really only want to see areas that have lat long\n",
    "# lets get rid of the ones that dont\n",
    "df_ = df[pd.notnull(df['position_lat'])] \n",
    "\n",
    "def make_map(wo_num, metric):\n",
    "    df_t = df_[df_['workout']==wo_num]\n",
    "    lat,long = df_t[['position_lat', 'position_long']].mean() \n",
    "    # points\n",
    "    points = df_t[['position_lat', 'position_long']].values.tolist()\n",
    "                      \n",
    "    def get_colors(s):\n",
    "        def fm(l):\n",
    "            m = float(len(l))/2\n",
    "            if m % 2 != 0:\n",
    "                return l[int(m - .5)]\n",
    "            else:\n",
    "                return (l[int(m)], l[int(m-1)])\n",
    "        s = sorted(s.unique())\n",
    "        try:\n",
    "            max_ = int(max(s).round())\n",
    "            min_ = int(min(s).round())\n",
    "        except:\n",
    "            raise Exception(f\"You dont have {metric} data for this workout\")\n",
    "        crange = list(range(min_,max_, 1)) \n",
    "        green = Color(\"green\")\n",
    "        colors = [c.hex_l for c in list(green.range_to(Color(\"red\"),len(crange)))]\n",
    "        m_color = dict(zip(s,colors))\n",
    "        m_color['middle']=fm(colors)\n",
    "        return m_color\n",
    "    \n",
    "    m_color = get_colors(df_t[metric].sort_values())\n",
    "    m = folium.Map(\n",
    "        location=[lat,long],\n",
    "        zoom_start=13.2\n",
    "    )\n",
    "    \n",
    "    for i, point in enumerate(points[1:]):\n",
    "        point = [points[i-1],points[i]]\n",
    "        val = 'middle' if np.isnan(df_t[metric].iloc[i]) else df_t[metric].iloc[i]\n",
    "        folium.PolyLine(point, color=m_color[val], weight=4, opacity=1).add_to(m)\n",
    "    return m\n",
    "\n",
    "@interact(wo_num=widgets.Dropdown(options=df_.workout.unique(), value=60),\n",
    "          metric=widgets.Dropdown(options=df_.columns, value='heart_rate')\n",
    "         )\n",
    "def mapy(wo_num, metric):\n",
    "    return make_map(wo_num, metric)"
   ]
  },
  {
   "cell_type": "markdown",
   "metadata": {},
   "source": [
    "# Summary\n",
    "In summary your workout data can tell a great story about your heart rate during exercise and using the right visualizations can be quite informative about what that data means. There wasn't much to be learned and no correlations or further stastical analysis was done to glean any information. \n",
    "\n",
    "The visualizations do tell a story and your heart rate and will hopefully give you a better understanding about how cadence maybe effects your heart rate. Or how the paths you travel may have sections that are more challenging than others based on how it effects your heart rate. \n",
    "\n",
    "With the flexibility and interactivity of this notebook you will be able to tell a great deal more about our exercise stats. "
   ]
  },
  {
   "cell_type": "code",
   "execution_count": null,
   "metadata": {},
   "outputs": [],
   "source": []
  }
 ],
 "metadata": {
  "kernelspec": {
   "display_name": "Python 3",
   "language": "python",
   "name": "python3"
  },
  "language_info": {
   "codemirror_mode": {
    "name": "ipython",
    "version": 3
   },
   "file_extension": ".py",
   "mimetype": "text/x-python",
   "name": "python",
   "nbconvert_exporter": "python",
   "pygments_lexer": "ipython3",
   "version": "3.7.3"
  }
 },
 "nbformat": 4,
 "nbformat_minor": 2
}
